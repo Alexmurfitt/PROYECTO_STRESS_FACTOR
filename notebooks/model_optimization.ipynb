{
 "cells": [
  {
   "cell_type": "code",
   "execution_count": null,
   "id": "9ab04581",
   "metadata": {},
   "outputs": [
    {
     "name": "stdout",
     "output_type": "stream",
     "text": [
      "Best parameters: {'max_depth': 15, 'min_samples_split': 2}\n",
      "Best cross-validation score: 0.8886363636363634\n"
     ]
    }
   ],
   "source": [
    "import pandas as pd\n",
    "from sklearn.model_selection import train_test_split\n",
    "from sklearn.ensemble import RandomForestClassifier\n",
    "from sklearn.model_selection import GridSearchCV\n",
    "import matplotlib.pyplot as plt\n",
    "\n",
    "# Definir los parámetros a optimizar\n",
    "param_grid = {\n",
    "    'max_depth': [5, 10, 15],\n",
    "    'min_samples_split': [2, 5, 10]\n",
    "}\n",
    "\n",
    "# Crear GridSearchCV para RandomForest\n",
    "grid_search = GridSearchCV(RandomForestClassifier(), param_grid, cv=5)\n",
    "\n",
    "# Dividir los datos en entrenamiento y prueba\n",
    "df = pd.read_csv('/home/reboot-student/code/labs/0_ReBoot_Stress_Project/data/ReBoot_Student_Stress_Factors.csv')\n",
    "X = df[['anxiety_level', 'self_esteem', 'depression', 'sleep_quality', 'bullying']]\n",
    "y = df['stress_level']\n",
    "\n",
    "X_train, X_test, y_train, y_test = train_test_split(X, y, test_size=0.2, random_state=42)\n",
    "\n",
    "# Entrenar el modelo\n",
    "grid_search.fit(X_train, y_train)\n",
    "\n",
    "# Visualizar los resultados de GridSearchCV\n",
    "results = grid_search.cv_results_\n",
    "mean_scores = results['mean_test_score']\n",
    "\n",
    "plt.plot(results['param_max_depth'], mean_scores, label=\"mean_test_score\")\n",
    "plt.xlabel('max_depth')\n",
    "plt.ylabel('Mean Score')\n",
    "plt.title('GridSearchCV Performance')\n",
    "plt.legend()\n",
    "plt.show()\n",
    "\n",
    "\n",
    "# Mostrar los mejores parámetros y la mejor puntuación de validación cruzada\n",
    "print(f'Best parameters: {grid_search.best_params_}')\n",
    "print(f'Best cross-validation score: {grid_search.best_score_}')\n",
    "\n"
   ]
  },
  {
   "cell_type": "code",
   "execution_count": null,
   "id": "a36af293-9b21-4b09-ae60-0f9d1d0f3b4e",
   "metadata": {},
   "outputs": [],
   "source": []
  },
  {
   "cell_type": "code",
   "execution_count": null,
   "id": "bbbf9973-67ff-4876-a853-8c04397be9bc",
   "metadata": {},
   "outputs": [],
   "source": []
  }
 ],
 "metadata": {
  "kernelspec": {
   "display_name": "Python 3 (ipykernel)",
   "language": "python",
   "name": "python3"
  },
  "language_info": {
   "codemirror_mode": {
    "name": "ipython",
    "version": 3
   },
   "file_extension": ".py",
   "mimetype": "text/x-python",
   "name": "python",
   "nbconvert_exporter": "python",
   "pygments_lexer": "ipython3",
   "version": "3.12.3"
  }
 },
 "nbformat": 4,
 "nbformat_minor": 5
}
